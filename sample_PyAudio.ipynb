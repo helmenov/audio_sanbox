{
 "cells": [
  {
   "cell_type": "markdown",
   "metadata": {},
   "source": [
    "# sample_PyAudio"
   ]
  },
  {
   "cell_type": "code",
   "execution_count": 24,
   "metadata": {},
   "outputs": [],
   "source": [
    "import sys\n",
    "import wave"
   ]
  },
  {
   "cell_type": "markdown",
   "metadata": {},
   "source": [
    "# PyAudioの使用例\n",
    "\n",
    "[PyAudio]は，クロスプラットフォームのオーディオIO[portaudio]のPythonバインドである．"
   ]
  },
  {
   "cell_type": "code",
   "execution_count": 25,
   "metadata": {},
   "outputs": [],
   "source": [
    "import pyaudio"
   ]
  },
  {
   "cell_type": "markdown",
   "metadata": {},
   "source": [
    "## Blocking Mode"
   ]
  },
  {
   "cell_type": "code",
   "execution_count": 26,
   "metadata": {},
   "outputs": [
    {
     "name": "stdout",
     "output_type": "stream",
     "text": [
      "Information: sample/chirp.wav\n",
      "| Quantization Width [Byte]: 2\n",
      "| Dimension of Channels: 1\n",
      "| Sampling Frequency [Hz]: 32000\n",
      "|| format: 8\n"
     ]
    },
    {
     "ename": "SystemError",
     "evalue": "PY_SSIZE_T_CLEAN macro must be defined for '#' formats",
     "output_type": "error",
     "traceback": [
      "\u001b[0;31m---------------------------------------------------------------------------\u001b[0m",
      "\u001b[0;31mSystemError\u001b[0m                               Traceback (most recent call last)",
      "\u001b[0;32m/var/folders/qq/y0p5l6xd5qb7l_6_x0nmwhv40000gn/T/ipykernel_61427/1338963303.py\u001b[0m in \u001b[0;36m<module>\u001b[0;34m\u001b[0m\n\u001b[1;32m     26\u001b[0m \u001b[0;34m\u001b[0m\u001b[0m\n\u001b[1;32m     27\u001b[0m \u001b[0;31m# write audio data to the stream\u001b[0m\u001b[0;34m\u001b[0m\u001b[0;34m\u001b[0m\u001b[0m\n\u001b[0;32m---> 28\u001b[0;31m \u001b[0mstream\u001b[0m\u001b[0;34m.\u001b[0m\u001b[0mwrite\u001b[0m\u001b[0;34m(\u001b[0m\u001b[0mdata\u001b[0m\u001b[0;34m)\u001b[0m\u001b[0;34m\u001b[0m\u001b[0;34m\u001b[0m\u001b[0m\n\u001b[0m\u001b[1;32m     29\u001b[0m \u001b[0;34m\u001b[0m\u001b[0m\n\u001b[1;32m     30\u001b[0m \u001b[0;31m# read audio data from the wavename\u001b[0m\u001b[0;34m\u001b[0m\u001b[0;34m\u001b[0m\u001b[0m\n",
      "\u001b[0;32m~/MyRepository/audio_sandbox/.venv/lib/python3.10/site-packages/pyaudio.py\u001b[0m in \u001b[0;36mwrite\u001b[0;34m(self, frames, num_frames, exception_on_underflow)\u001b[0m\n\u001b[1;32m    583\u001b[0m             \u001b[0;31m#print len(frames), self._channels, self._width, num_frames\u001b[0m\u001b[0;34m\u001b[0m\u001b[0;34m\u001b[0m\u001b[0m\n\u001b[1;32m    584\u001b[0m \u001b[0;34m\u001b[0m\u001b[0m\n\u001b[0;32m--> 585\u001b[0;31m         pa.write_stream(self._stream, frames, num_frames,\n\u001b[0m\u001b[1;32m    586\u001b[0m                         exception_on_underflow)\n\u001b[1;32m    587\u001b[0m \u001b[0;34m\u001b[0m\u001b[0m\n",
      "\u001b[0;31mSystemError\u001b[0m: PY_SSIZE_T_CLEAN macro must be defined for '#' formats"
     ]
    },
    {
     "name": "stderr",
     "output_type": "stream",
     "text": [
      "Bad pipe message: %s [b'nection: Upgrade\\r\\nSec-WebSocket-Key: SFaC4FCTiQji3iOV79a4kg==\\r\\nSec-WebSocket-Version: 13\\r\\nUpgrade: websocket\\r\\n']\n"
     ]
    }
   ],
   "source": [
    "CHUNK:int = 1024\n",
    "wavname = 'sample/chirp.wav'\n",
    "\n",
    "wf = wave.open(wavname,'rb')\n",
    "sampwidth = wf.getsampwidth()\n",
    "nchannels = wf.getnchannels()\n",
    "framerate = wf.getframerate()\n",
    "print(\"Information: {filename}\".format(filename=wavname))\n",
    "print(\"| Quantization Width [Byte]: {}\".format(sampwidth))\n",
    "print(\"| Dimension of Channels: {}\".format(nchannels))\n",
    "print(\"| Sampling Frequency [Hz]: {}\".format(framerate)) # frame means one sampling \n",
    "\n",
    "# instantiate PyAudio a.k.a. portaudio\n",
    "pa = pyaudio.PyAudio()\n",
    "format = pa.get_format_from_width(sampwidth)\n",
    "print(\"|| format: {}\".format(format))\n",
    "\n",
    "\n",
    "# open a stream on the desired device with the desired audio parameters\n",
    "pa_params = {\"format\": format, \"channels\": nchannels, \"rate\": framerate, \"output\": True}\n",
    "stream = pa.open(**pa_params)\n",
    "##stream = pa.open(format=pa.get_format_from_width(wf.getsampwidth()), channels=wf.getnchannels(), rate=wf.getframerate, output=True)\n",
    "\n",
    "# read audio data from the wavename\n",
    "data = wf.readframes(CHUNK) # sampling CHUNK samples from wavefile\n",
    "\n",
    "# write audio data to the stream\n",
    "stream.write(data)\n",
    "\n",
    "# read audio data from the wavename\n",
    "data = wf.readframes(CHUNK) # sampling CHUNK samples from wavefile\n",
    "\n",
    "# write audio data to the stream\n",
    "stream.write(data)\n",
    "\n",
    "\n",
    "wf.close\n",
    "\n",
    "\n",
    "# pause stream \n",
    "stream.stop_stream()\n",
    "\n",
    "# resume stream\n",
    "stream.start_stream()\n",
    "\n",
    "# close stream\n",
    "stream.close()\n",
    "\n",
    "# close portaudio\n",
    "pa.terminate()\n",
    "\n"
   ]
  },
  {
   "cell_type": "markdown",
   "metadata": {},
   "source": []
  }
 ],
 "metadata": {
  "interpreter": {
   "hash": "e021b95357d171f3dec40270ffb940d7e329526de43bc9cab948253b9b9d21a0"
  },
  "kernelspec": {
   "display_name": "Python 3.10.0 64-bit ('.venv': poetry)",
   "name": "python3"
  },
  "language_info": {
   "codemirror_mode": {
    "name": "ipython",
    "version": 3
   },
   "file_extension": ".py",
   "mimetype": "text/x-python",
   "name": "python",
   "nbconvert_exporter": "python",
   "pygments_lexer": "ipython3",
   "version": "3.10.0"
  },
  "orig_nbformat": 4
 },
 "nbformat": 4,
 "nbformat_minor": 2
}
