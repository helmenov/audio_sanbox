{
 "cells": [
  {
   "cell_type": "markdown",
   "metadata": {},
   "source": [
    "# 通信中の外乱"
   ]
  },
  {
   "cell_type": "markdown",
   "metadata": {},
   "source": [
    "## 混信 mixture\n",
    "\n",
    "## ノイズ混信\n",
    "\n",
    "ガウシアンノイズ，ホワイトノイズ，ピンクノイズ，"
   ]
  },
  {
   "cell_type": "markdown",
   "metadata": {},
   "source": [
    "## ピッチシフト（Voice Changer）"
   ]
  },
  {
   "cell_type": "markdown",
   "metadata": {},
   "source": [
    "## 系列伸縮"
   ]
  },
  {
   "cell_type": "markdown",
   "metadata": {},
   "source": [
    "## リサンプリング\n",
    "\n",
    "ダウンダンプリング(pooling) $fs^{\\prime} = fs/k, k>0$ \n",
    "- 方法1. y^{\\prime}(kt) = samp(y(kt:k(t+1)))\n",
    "- 方法2. y^{\\prime}(kt) = max(y(kt:k(t+1)))\n",
    "− 方法3. y^{\\prime}(kt) = mean(y(kt:k(t+1)))\n",
    "\n",
    "アップサンプリング(補間)\n",
    "？？？"
   ]
  },
  {
   "cell_type": "markdown",
   "metadata": {},
   "source": [
    "## 時間ワープ（時系列シフト）\n",
    "\n",
    "単に $y^{\\prime}(t) = y(t-\\tau)$"
   ]
  },
  {
   "cell_type": "markdown",
   "metadata": {},
   "source": [
    "## 再量子化(ReQuantization)"
   ]
  },
  {
   "cell_type": "code",
   "execution_count": null,
   "metadata": {},
   "outputs": [],
   "source": []
  }
 ],
 "metadata": {
  "language_info": {
   "name": "python"
  },
  "orig_nbformat": 4
 },
 "nbformat": 4,
 "nbformat_minor": 2
}
